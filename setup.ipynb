{
 "cells": [
  {
   "cell_type": "code",
   "execution_count": 1,
   "metadata": {},
   "outputs": [
    {
     "name": "stdout",
     "output_type": "stream",
     "text": [
      "Looking in indexes: http://mirrors.tencentyun.com/pypi/simple\n",
      "Processing /home/tione/.cache/pip/wheels/c5/7d/57/a14ab81e83a58c3ccf630b021656bf453e6182666d5235f035/wget-3.2-py3-none-any.whl\n",
      "Installing collected packages: wget\n",
      "Successfully installed wget-3.2\n"
     ]
    }
   ],
   "source": [
    "!pip install wget"
   ]
  },
  {
   "cell_type": "code",
   "execution_count": 1,
   "metadata": {},
   "outputs": [
    {
     "name": "stdout",
     "output_type": "stream",
     "text": [
      "Looking in indexes: http://mirrors.tencentyun.com/pypi/simple\n",
      "Collecting pytest-runner\n",
      "  Downloading http://mirrors.tencentyun.com/pypi/packages/16/45/81b5262c0efc08882bdf183b788e6d28e3d684863990996d8b60967d48da/pytest_runner-5.2-py2.py3-none-any.whl (6.8 kB)\n",
      "Installing collected packages: pytest-runner\n",
      "Successfully installed pytest-runner-5.2\n"
     ]
    }
   ],
   "source": [
    "!pip install pytest-runner "
   ]
  },
  {
   "cell_type": "code",
   "execution_count": 2,
   "metadata": {},
   "outputs": [
    {
     "name": "stdout",
     "output_type": "stream",
     "text": [
      "Looking in indexes: http://mirrors.tencentyun.com/pypi/simple\n",
      "Processing /home/tione/.cache/pip/wheels/21/87/ae/c045e1990e021739b265db75409adc4fe38910a8b8b0e124dd/fastparquet-0.4.0-cp36-cp36m-linux_x86_64.whl\n",
      "Collecting numba>=0.28\n",
      "  Downloading http://mirrors.tencentyun.com/pypi/packages/ab/2a/c4c9f2ee4edb374af7faa407f66cdc3427489f1c4c4744aeab76230952b7/numba-0.50.1-cp36-cp36m-manylinux2014_x86_64.whl (3.6 MB)\n",
      "\u001b[K     |████████████████████████████████| 3.6 MB 1.2 MB/s eta 0:00:01\n",
      "\u001b[?25hRequirement already satisfied: pandas>=0.19 in /opt/conda/envs/tensorflow_py3/lib/python3.6/site-packages (from fastparquet) (1.0.5)\n",
      "Requirement already satisfied: numpy>=1.11 in /opt/conda/envs/tensorflow_py3/lib/python3.6/site-packages (from fastparquet) (1.18.5)\n",
      "Processing /home/tione/.cache/pip/wheels/9e/5e/d8/6c78f5205f9e2b0ef53dedbb34ce6ca1c262c4cb8ba2b65434/thrift-0.13.0-cp36-cp36m-linux_x86_64.whl\n",
      "Requirement already satisfied: six in /opt/conda/envs/tensorflow_py3/lib/python3.6/site-packages (from fastparquet) (1.15.0)\n",
      "Collecting llvmlite<0.34,>=0.33.0.dev0\n",
      "  Downloading http://mirrors.tencentyun.com/pypi/packages/d5/37/10d2c4ba0c131cf112d0a8fc97af7a77ca4a769aff626b2bfa2e57e679cf/llvmlite-0.33.0-cp36-cp36m-manylinux1_x86_64.whl (18.3 MB)\n",
      "\u001b[K     |████████████████████████████████| 18.3 MB 71.3 MB/s eta 0:00:01\n",
      "\u001b[?25hRequirement already satisfied: setuptools in /opt/conda/envs/tensorflow_py3/lib/python3.6/site-packages (from numba>=0.28->fastparquet) (47.3.1.post20200616)\n",
      "Requirement already satisfied: pytz>=2017.2 in /opt/conda/envs/tensorflow_py3/lib/python3.6/site-packages (from pandas>=0.19->fastparquet) (2020.1)\n",
      "Requirement already satisfied: python-dateutil>=2.6.1 in /opt/conda/envs/tensorflow_py3/lib/python3.6/site-packages (from pandas>=0.19->fastparquet) (2.8.1)\n",
      "Installing collected packages: llvmlite, numba, thrift, fastparquet\n",
      "Successfully installed fastparquet-0.4.0 llvmlite-0.33.0 numba-0.50.1 thrift-0.13.0\n"
     ]
    }
   ],
   "source": [
    "!pip install fastparquet "
   ]
  },
  {
   "cell_type": "code",
   "execution_count": 3,
   "metadata": {},
   "outputs": [
    {
     "name": "stdout",
     "output_type": "stream",
     "text": [
      "Looking in indexes: http://mirrors.tencentyun.com/pypi/simple\n",
      "Collecting pyarrow\n",
      "  Downloading http://mirrors.tencentyun.com/pypi/packages/ba/3f/6cac1714fff444664603f92cb9fbe91c7ae25375880158b9e9691c4584c8/pyarrow-0.17.1-cp36-cp36m-manylinux2014_x86_64.whl (63.8 MB)\n",
      "\u001b[K     |████████████████████████████████| 63.8 MB 6.2 MB/s eta 0:00:0101�██████████▉        | 47.4 MB 131.0 MB/s eta 0:00:01�████████████▌      | 50.9 MB 6.2 MB/s eta 0:00:03ta 0:00:01\n",
      "\u001b[?25hRequirement already satisfied: numpy>=1.14 in /opt/conda/envs/tensorflow_py3/lib/python3.6/site-packages (from pyarrow) (1.18.5)\n",
      "Installing collected packages: pyarrow\n",
      "Successfully installed pyarrow-0.17.1\n"
     ]
    }
   ],
   "source": [
    "!pip install pyarrow"
   ]
  },
  {
   "cell_type": "code",
   "execution_count": 4,
   "metadata": {},
   "outputs": [
    {
     "name": "stdout",
     "output_type": "stream",
     "text": [
      "Looking in indexes: http://mirrors.tencentyun.com/pypi/simple\n",
      "Collecting gensim\n",
      "  Downloading http://mirrors.tencentyun.com/pypi/packages/2b/e0/fa6326251692056dc880a64eb22117e03269906ba55a6864864d24ec8b4e/gensim-3.8.3-cp36-cp36m-manylinux1_x86_64.whl (24.2 MB)\n",
      "\u001b[K     |████████████████████████████████| 24.2 MB 117.5 MB/s eta 0:00:01\n",
      "\u001b[?25hRequirement already satisfied: six>=1.5.0 in /opt/conda/envs/tensorflow_py3/lib/python3.6/site-packages (from gensim) (1.15.0)\n",
      "Requirement already satisfied: scipy>=0.18.1 in /opt/conda/envs/tensorflow_py3/lib/python3.6/site-packages (from gensim) (1.5.0)\n",
      "Processing /home/tione/.cache/pip/wheels/af/b2/aa/49b1424dd5099959003661d365fe8dcec7c3ddf2290a91a568/smart_open-2.1.0-py3-none-any.whl\n",
      "Requirement already satisfied: numpy>=1.11.3 in /opt/conda/envs/tensorflow_py3/lib/python3.6/site-packages (from gensim) (1.18.5)\n",
      "Collecting boto\n",
      "  Downloading http://mirrors.tencentyun.com/pypi/packages/23/10/c0b78c27298029e4454a472a1919bde20cb182dab1662cec7f2ca1dcc523/boto-2.49.0-py2.py3-none-any.whl (1.4 MB)\n",
      "\u001b[K     |████████████████████████████████| 1.4 MB 52.5 MB/s eta 0:00:01\n",
      "\u001b[?25hRequirement already satisfied: requests in /opt/conda/envs/tensorflow_py3/lib/python3.6/site-packages (from smart-open>=1.8.1->gensim) (2.24.0)\n",
      "Collecting boto3\n",
      "  Downloading http://mirrors.tencentyun.com/pypi/packages/3c/f4/41c1d8a69b07b2a087a7e552cbed21111ff36706fec2f1ba9983fba95771/boto3-1.14.20-py2.py3-none-any.whl (128 kB)\n",
      "\u001b[K     |████████████████████████████████| 128 kB 92.8 MB/s eta 0:00:01\n",
      "\u001b[?25hRequirement already satisfied: idna<3,>=2.5 in /opt/conda/envs/tensorflow_py3/lib/python3.6/site-packages (from requests->smart-open>=1.8.1->gensim) (2.10)\n",
      "Requirement already satisfied: chardet<4,>=3.0.2 in /opt/conda/envs/tensorflow_py3/lib/python3.6/site-packages (from requests->smart-open>=1.8.1->gensim) (3.0.4)\n",
      "Requirement already satisfied: certifi>=2017.4.17 in /opt/conda/envs/tensorflow_py3/lib/python3.6/site-packages (from requests->smart-open>=1.8.1->gensim) (2020.6.20)\n",
      "Requirement already satisfied: urllib3!=1.25.0,!=1.25.1,<1.26,>=1.21.1 in /opt/conda/envs/tensorflow_py3/lib/python3.6/site-packages (from requests->smart-open>=1.8.1->gensim) (1.25.9)\n",
      "Collecting s3transfer<0.4.0,>=0.3.0\n",
      "  Downloading http://mirrors.tencentyun.com/pypi/packages/69/79/e6afb3d8b0b4e96cefbdc690f741d7dd24547ff1f94240c997a26fa908d3/s3transfer-0.3.3-py2.py3-none-any.whl (69 kB)\n",
      "\u001b[K     |████████████████████████████████| 69 kB 95.6 MB/s  eta 0:00:01\n",
      "\u001b[?25hCollecting botocore<1.18.0,>=1.17.20\n",
      "  Downloading http://mirrors.tencentyun.com/pypi/packages/87/a6/1710181d97a6763ccced7f69fff8beea751633af2a101c3d02826cf4acce/botocore-1.17.20-py2.py3-none-any.whl (6.3 MB)\n",
      "\u001b[K     |████████████████████████████████| 6.3 MB 3.5 MB/s eta 0:00:0101\n",
      "\u001b[?25hCollecting jmespath<1.0.0,>=0.7.1\n",
      "  Downloading http://mirrors.tencentyun.com/pypi/packages/07/cb/5f001272b6faeb23c1c9e0acc04d48eaaf5c862c17709d20e3469c6e0139/jmespath-0.10.0-py2.py3-none-any.whl (24 kB)\n",
      "Requirement already satisfied: python-dateutil<3.0.0,>=2.1 in /opt/conda/envs/tensorflow_py3/lib/python3.6/site-packages (from botocore<1.18.0,>=1.17.20->boto3->smart-open>=1.8.1->gensim) (2.8.1)\n",
      "Collecting docutils<0.16,>=0.10\n",
      "  Downloading http://mirrors.tencentyun.com/pypi/packages/22/cd/a6aa959dca619918ccb55023b4cb151949c64d4d5d55b3f4ffd7eee0c6e8/docutils-0.15.2-py3-none-any.whl (547 kB)\n",
      "\u001b[K     |████████████████████████████████| 547 kB 55.9 MB/s eta 0:00:01\n",
      "\u001b[?25hInstalling collected packages: boto, jmespath, docutils, botocore, s3transfer, boto3, smart-open, gensim\n",
      "Successfully installed boto-2.49.0 boto3-1.14.20 botocore-1.17.20 docutils-0.15.2 gensim-3.8.3 jmespath-0.10.0 s3transfer-0.3.3 smart-open-2.1.0\n"
     ]
    }
   ],
   "source": [
    "!pip install gensim"
   ]
  },
  {
   "cell_type": "code",
   "execution_count": 6,
   "metadata": {},
   "outputs": [
    {
     "name": "stdout",
     "output_type": "stream",
     "text": [
      "Looking in indexes: http://mirrors.tencentyun.com/pypi/simple\n",
      "Collecting tensorflow_addons\n",
      "  Downloading http://mirrors.tencentyun.com/pypi/packages/0e/ce/ed8472bf2b93b53702f28d91caee52181f7a10bee6eec0617a71dea12fa6/tensorflow_addons-0.10.0-cp36-cp36m-manylinux2010_x86_64.whl (1.0 MB)\n",
      "\u001b[K     |████████████████████████████████| 1.0 MB 8.4 MB/s eta 0:00:01\n",
      "\u001b[?25hCollecting typeguard>=2.7\n",
      "  Downloading http://mirrors.tencentyun.com/pypi/packages/52/33/3755584541a18d954389447bfd5f9cb7fa20dfbf5094829aee4a103e580c/typeguard-2.9.1-py3-none-any.whl (16 kB)\n",
      "Installing collected packages: typeguard, tensorflow-addons\n",
      "Successfully installed tensorflow-addons-0.10.0 typeguard-2.9.1\n"
     ]
    }
   ],
   "source": [
    "!pip install tensorflow_addons"
   ]
  },
  {
   "cell_type": "code",
   "execution_count": 7,
   "metadata": {},
   "outputs": [
    {
     "name": "stdout",
     "output_type": "stream",
     "text": [
      "Tue Jul 14 04:39:44 2020       \n",
      "+-----------------------------------------------------------------------------+\n",
      "| NVIDIA-SMI 418.67       Driver Version: 418.67       CUDA Version: 10.1     |\n",
      "|-------------------------------+----------------------+----------------------+\n",
      "| GPU  Name        Persistence-M| Bus-Id        Disp.A | Volatile Uncorr. ECC |\n",
      "| Fan  Temp  Perf  Pwr:Usage/Cap|         Memory-Usage | GPU-Util  Compute M. |\n",
      "|===============================+======================+======================|\n",
      "|   0  Tesla V100-SXM2...  On   | 00000000:00:08.0 Off |                    0 |\n",
      "| N/A   35C    P0    67W / 300W |  31148MiB / 32480MiB |     24%      Default |\n",
      "+-------------------------------+----------------------+----------------------+\n",
      "|   1  Tesla V100-SXM2...  On   | 00000000:00:09.0 Off |                    0 |\n",
      "| N/A   33C    P0    64W / 300W |  31148MiB / 32480MiB |     24%      Default |\n",
      "+-------------------------------+----------------------+----------------------+\n",
      "|   2  Tesla V100-SXM2...  On   | 00000000:00:0A.0 Off |                    0 |\n",
      "| N/A   33C    P0    55W / 300W |  31148MiB / 32480MiB |     23%      Default |\n",
      "+-------------------------------+----------------------+----------------------+\n",
      "|   3  Tesla V100-SXM2...  On   | 00000000:00:0B.0 Off |                    0 |\n",
      "| N/A   33C    P0    63W / 300W |  31148MiB / 32480MiB |     23%      Default |\n",
      "+-------------------------------+----------------------+----------------------+\n",
      "                                                                               \n",
      "+-----------------------------------------------------------------------------+\n",
      "| Processes:                                                       GPU Memory |\n",
      "|  GPU       PID   Type   Process name                             Usage      |\n",
      "|=============================================================================|\n",
      "+-----------------------------------------------------------------------------+\n"
     ]
    }
   ],
   "source": [
    "\n",
    "!nvidia-smi"
   ]
  },
  {
   "cell_type": "code",
   "execution_count": null,
   "metadata": {},
   "outputs": [],
   "source": [
    "!pip install transformers\n"
   ]
  },
  {
   "cell_type": "code",
   "execution_count": 6,
   "metadata": {},
   "outputs": [],
   "source": [
    "import wget, tarfile\n",
    "import zipfile\n",
    "def download(url,folder):\n",
    "    filename = wget.download(url)\n",
    "    zFile = zipfile.ZipFile(filename, \"r\")\n",
    "    for fileM in zFile.namelist():\n",
    "        zFile.extract(fileM,folder)\n",
    "    zFile.close();\n"
   ]
  },
  {
   "cell_type": "code",
   "execution_count": 3,
   "metadata": {},
   "outputs": [],
   "source": [
    "download(\"https://tt-1301888630.cos.ap-guangzhou.myqcloud.com/data/w2v.zip\",\"./\")\n"
   ]
  },
  {
   "cell_type": "code",
   "execution_count": 7,
   "metadata": {},
   "outputs": [
    {
     "data": {
      "text/plain": [
       "'folder.pkl'"
      ]
     },
     "execution_count": 7,
     "metadata": {},
     "output_type": "execute_result"
    }
   ],
   "source": [
    "wget.download('https://tt-1301888630.cos.ap-guangzhou.myqcloud.com/data/folder.pkl')"
   ]
  },
  {
   "cell_type": "code",
   "execution_count": 7,
   "metadata": {},
   "outputs": [],
   "source": [
    "download(\"https://tesla-ap-shanghai-1256322946.cos.ap-shanghai.myqcloud.com/cephfs/tesla_common/deeplearning/dataset/algo_contest/train_preliminary.zip\",\"./data/\")\n",
    "download(\"https://tesla-ap-shanghai-1256322946.cos.ap-shanghai.myqcloud.com/cephfs/tesla_common/deeplearning/dataset/algo_contest/test.zip\",\"./data/\")\n",
    "\n",
    "download(\"https://tesla-ap-guangzhou-1256322946.cos.ap-guangzhou.myqcloud.com/cephfs/tesla_common/deeplearning/dataset/algo_contest/train_semi_final.zip\",\"./data/\")"
   ]
  },
  {
   "cell_type": "code",
   "execution_count": null,
   "metadata": {},
   "outputs": [],
   "source": []
  },
  {
   "cell_type": "code",
   "execution_count": null,
   "metadata": {},
   "outputs": [],
   "source": [
    "!cat /proc/meminfo | grep MemTotal"
   ]
  },
  {
   "cell_type": "code",
   "execution_count": null,
   "metadata": {},
   "outputs": [],
   "source": [
    "!top"
   ]
  },
  {
   "cell_type": "code",
   "execution_count": null,
   "metadata": {},
   "outputs": [],
   "source": [
    "!zip ./data/cache"
   ]
  },
  {
   "cell_type": "code",
   "execution_count": null,
   "metadata": {},
   "outputs": [],
   "source": [
    "!zip -r cache.zip ./data/cache"
   ]
  },
  {
   "cell_type": "code",
   "execution_count": null,
   "metadata": {},
   "outputs": [],
   "source": [
    "!zip -r w2v.zip ./model/*.model ./model/*.npy"
   ]
  },
  {
   "cell_type": "code",
   "execution_count": null,
   "metadata": {},
   "outputs": [],
   "source": [
    "!ls -l --block-size=MB ./"
   ]
  },
  {
   "cell_type": "code",
   "execution_count": 1,
   "metadata": {},
   "outputs": [],
   "source": [
    "from ti import session"
   ]
  },
  {
   "cell_type": "code",
   "execution_count": 2,
   "metadata": {},
   "outputs": [],
   "source": [
    "tise = session.Session()"
   ]
  },
  {
   "cell_type": "code",
   "execution_count": null,
   "metadata": {},
   "outputs": [],
   "source": [
    "tise.upload_data(path='./w2v.zip',bucket='tt-1301888630')"
   ]
  },
  {
   "cell_type": "code",
   "execution_count": null,
   "metadata": {},
   "outputs": [],
   "source": [
    "tise.upload_data(path='./cache.zip',bucket='tt-1301888630')"
   ]
  },
  {
   "cell_type": "code",
   "execution_count": 4,
   "metadata": {},
   "outputs": [
    {
     "data": {
      "text/plain": [
       "'cos://algo-1301888630/data/folder.pkl'"
      ]
     },
     "execution_count": 4,
     "metadata": {},
     "output_type": "execute_result"
    }
   ],
   "source": [
    "tise.upload_data(path='./temp/folder.pkl',bucket='algo-1301888630')"
   ]
  },
  {
   "cell_type": "code",
   "execution_count": null,
   "metadata": {},
   "outputs": [],
   "source": [
    "!pip install gast==0.2.2"
   ]
  },
  {
   "cell_type": "code",
   "execution_count": 1,
   "metadata": {},
   "outputs": [
    {
     "name": "stdout",
     "output_type": "stream",
     "text": [
      "Package                 Version\n",
      "----------------------- ----------------------------\n",
      "absl-py                 0.9.0\n",
      "aiohttp                 3.6.2\n",
      "asn1crypto              1.3.0\n",
      "astor                   0.7.1\n",
      "async-timeout           3.0.1\n",
      "attrs                   19.3.0\n",
      "backcall                0.2.0\n",
      "bcrypt                  3.1.7\n",
      "beautifulsoup4          4.9.1\n",
      "bleach                  3.1.5\n",
      "boto                    2.49.0\n",
      "boto3                   1.14.20\n",
      "botocore                1.17.20\n",
      "brotlipy                0.7.0\n",
      "cached-property         1.5.1\n",
      "certifi                 2020.6.20\n",
      "cffi                    1.14.0\n",
      "chardet                 3.0.4\n",
      "cos-python-sdk-v5       1.8.0\n",
      "coscmd                  1.8.6.16\n",
      "cryptography            2.5\n",
      "cycler                  0.10.0\n",
      "DateTime                4.3\n",
      "decorator               4.4.2\n",
      "defusedxml              0.6.0\n",
      "dicttoxml               1.7.4\n",
      "distro                  1.5.0\n",
      "docker                  4.2.2\n",
      "docker-compose          1.26.2\n",
      "dockerpty               0.4.1\n",
      "docopt                  0.6.2\n",
      "docutils                0.15.2\n",
      "entrypoints             0.3\n",
      "fastparquet             0.4.0\n",
      "gast                    0.2.2\n",
      "gensim                  3.8.3\n",
      "google-pasta            0.2.0\n",
      "grpcio                  1.16.0\n",
      "h5py                    2.10.0\n",
      "idna                    2.10\n",
      "idna-ssl                1.1.0\n",
      "importlib-metadata      1.7.0\n",
      "ipykernel               5.3.0\n",
      "ipython                 7.16.1\n",
      "ipython-genutils        0.2.0\n",
      "jedi                    0.17.1\n",
      "Jinja2                  2.11.2\n",
      "jmespath                0.10.0\n",
      "joblib                  0.15.1\n",
      "jsonschema              3.2.0\n",
      "jupyter-client          6.1.3\n",
      "jupyter-core            4.6.3\n",
      "jupyter-server-proxy    1.5.0\n",
      "Keras-Applications      1.0.8\n",
      "Keras-Preprocessing     1.1.0\n",
      "kiwisolver              1.2.0\n",
      "llvmlite                0.33.0\n",
      "Markdown                3.2.2\n",
      "MarkupSafe              1.1.1\n",
      "matplotlib              2.2.2\n",
      "mistune                 0.8.4\n",
      "multidict               4.7.6\n",
      "nbconvert               5.6.1\n",
      "nbformat                5.0.7\n",
      "notebook                6.0.3\n",
      "numba                   0.50.1\n",
      "numpy                   1.18.5\n",
      "opt-einsum              0+untagged.56.g2664021.dirty\n",
      "packaging               20.4\n",
      "pandas                  1.0.5\n",
      "pandocfilters           1.4.2\n",
      "paramiko                2.7.1\n",
      "parso                   0.7.0\n",
      "patsy                   0.5.1\n",
      "pexpect                 4.8.0\n",
      "pickleshare             0.7.5\n",
      "pip                     20.1.1\n",
      "prettytable             0.7.2\n",
      "prometheus-client       0.8.0\n",
      "prompt-toolkit          3.0.5\n",
      "protobuf                3.12.3\n",
      "protobuf3-to-dict       0.1.5\n",
      "ptyprocess              0.6.0\n",
      "py4j                    0.10.9\n",
      "pyarrow                 0.17.1\n",
      "pycparser               2.20\n",
      "Pygments                2.6.1\n",
      "PyNaCl                  1.4.0\n",
      "pyOpenSSL               19.0.0\n",
      "pyparsing               2.4.7\n",
      "pyrsistent              0.16.0\n",
      "PySocks                 1.7.1\n",
      "pyspark                 2.4.5\n",
      "pytest-runner           5.2\n",
      "python-dateutil         2.8.1\n",
      "python-dotenv           0.14.0\n",
      "pytz                    2020.1\n",
      "PyYAML                  5.3.1\n",
      "pyzmq                   19.0.1\n",
      "requests                2.24.0\n",
      "s3transfer              0.3.3\n",
      "scikit-learn            0.23.1\n",
      "scipy                   1.5.0\n",
      "seaborn                 0.10.0\n",
      "Send2Trash              1.5.0\n",
      "setuptools              47.3.1.post20200616\n",
      "simpervisor             0.3\n",
      "six                     1.15.0\n",
      "smart-open              2.1.0\n",
      "soupsieve               2.0.1\n",
      "statsmodels             0.11.1\n",
      "tencentcloud-sdk-python 3.0.210\n",
      "tensorboard             2.0.0\n",
      "tensorflow              2.0.0\n",
      "tensorflow-estimator    2.0.0\n",
      "termcolor               1.1.0\n",
      "terminado               0.8.3\n",
      "testpath                0.4.4\n",
      "texttable               1.6.2\n",
      "threadpoolctl           2.1.0\n",
      "thrift                  0.13.0\n",
      "ti-sdk-python           1.3.11\n",
      "tornado                 6.0.4\n",
      "tqdm                    4.46.1\n",
      "traitlets               4.3.3\n",
      "typing-extensions       3.7.4.2\n",
      "urllib3                 1.25.9\n",
      "wcwidth                 0.2.5\n",
      "webencodings            0.5.1\n",
      "websocket-client        0.57.0\n",
      "Werkzeug                0.16.1\n",
      "wheel                   0.34.2\n",
      "wrapt                   1.12.1\n",
      "yarl                    1.4.2\n",
      "zipp                    3.1.0\n",
      "zope.interface          5.1.0\n"
     ]
    }
   ],
   "source": [
    "!pip list\n"
   ]
  },
  {
   "cell_type": "code",
   "execution_count": null,
   "metadata": {},
   "outputs": [],
   "source": []
  }
 ],
 "metadata": {
  "kernelspec": {
   "display_name": "conda_tensorflow2_py3",
   "language": "python",
   "name": "conda_tensorflow2_py3"
  },
  "language_info": {
   "codemirror_mode": {
    "name": "ipython",
    "version": 3
   },
   "file_extension": ".py",
   "mimetype": "text/x-python",
   "name": "python",
   "nbconvert_exporter": "python",
   "pygments_lexer": "ipython3",
   "version": "3.6.5"
  }
 },
 "nbformat": 4,
 "nbformat_minor": 4
}
