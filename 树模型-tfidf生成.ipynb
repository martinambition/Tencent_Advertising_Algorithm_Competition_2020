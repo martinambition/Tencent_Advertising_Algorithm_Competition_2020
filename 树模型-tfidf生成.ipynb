{
 "cells": [
  {
   "cell_type": "code",
   "execution_count": null,
   "metadata": {},
   "outputs": [],
   "source": [
    "#目标编码\n",
    "#聚合统计特征\n",
    "#TFIDF\n",
    "#w2v. 用户属性平均。\n",
    "#w2v。 根据统计的权重\n"
   ]
  },
  {
   "cell_type": "code",
   "execution_count": null,
   "metadata": {},
   "outputs": [],
   "source": [
    "from gensim.models import Word2Vec\n",
    "import pandas as pd\n",
    "import numpy as np\n",
    "import os"
   ]
  },
  {
   "cell_type": "code",
   "execution_count": null,
   "metadata": {},
   "outputs": [],
   "source": [
    "train_root_path ='./data/train_preliminary/'\n",
    "train_ad_path = os.path.join(train_root_path,'ad.csv')\n",
    "train_click_path = os.path.join(train_root_path,'click_log.csv')\n",
    "train_user_path = os.path.join(train_root_path,'user.csv')"
   ]
  },
  {
   "cell_type": "code",
   "execution_count": null,
   "metadata": {},
   "outputs": [],
   "source": [
    "test_root_path = './data/test/'\n",
    "test_ad_path = os.path.join(test_root_path,'ad.csv')\n",
    "test_click_path = os.path.join(test_root_path,'click_log.csv')"
   ]
  },
  {
   "cell_type": "code",
   "execution_count": null,
   "metadata": {},
   "outputs": [],
   "source": [
    "df_ad_train = pd.read_csv(train_ad_path,na_values='\\\\N', \n",
    "                          dtype= {'creative_id':str,'ad_id': str, 'product_id': str, 'product_category': str,'advertiser_id': str,'industry': str} )\n",
    "df_ad_test = pd.read_csv(test_ad_path,na_values='\\\\N',\n",
    "                         dtype= {'creative_id':str,'ad_id': str, 'product_id': str, 'product_category': str,'advertiser_id': str,'industry': str} )"
   ]
  },
  {
   "cell_type": "code",
   "execution_count": null,
   "metadata": {},
   "outputs": [],
   "source": [
    "df_click_train = pd.read_csv(train_click_path,dtype={'creative_id':str,'click_times':str,'time':str})\n",
    "df_click_test = pd.read_csv(test_click_path,dtype={'creative_id':str,'click_times':str,'time':str})"
   ]
  },
  {
   "cell_type": "code",
   "execution_count": null,
   "metadata": {},
   "outputs": [],
   "source": [
    "df_click_ad_train = df_click_train.merge(df_ad_train,on=['creative_id'],how='inner')\n",
    "df_click_ad_test = df_click_test.merge(df_ad_test,on=['creative_id'],how='inner')"
   ]
  },
  {
   "cell_type": "code",
   "execution_count": null,
   "metadata": {},
   "outputs": [],
   "source": [
    "df_click_all =  pd.concat([df_click_ad_train,df_click_ad_test], axis=0)\n",
    "df_click_all = df_click_all.sort_values('time', ascending=True)"
   ]
  },
  {
   "cell_type": "code",
   "execution_count": null,
   "metadata": {},
   "outputs": [],
   "source": [
    "df_user = pd.read_csv(train_user_path)"
   ]
  },
  {
   "cell_type": "code",
   "execution_count": null,
   "metadata": {},
   "outputs": [],
   "source": [
    "df_click_all.fillna('un',inplace=True)"
   ]
  },
  {
   "cell_type": "code",
   "execution_count": null,
   "metadata": {},
   "outputs": [],
   "source": [
    "df_click_all"
   ]
  },
  {
   "cell_type": "markdown",
   "metadata": {},
   "source": [
    "# 数据处理"
   ]
  },
  {
   "cell_type": "code",
   "execution_count": null,
   "metadata": {},
   "outputs": [],
   "source": [
    "df_click_all = df_click_all.reset_index()"
   ]
  },
  {
   "cell_type": "code",
   "execution_count": null,
   "metadata": {},
   "outputs": [],
   "source": [
    "aggcol = ['creative_id','ad_id','product_id','product_category','advertiser_id','industry','time','click_times']"
   ]
  },
  {
   "cell_type": "code",
   "execution_count": null,
   "metadata": {},
   "outputs": [],
   "source": [
    "func = lambda x: ' '.join(x.tolist())\n",
    "agg_funcs ={}\n",
    "for col in aggcol:\n",
    "    agg_funcs[col] = func\n",
    "group_df = df_click_all.groupby(['user_id']).agg(agg_funcs)"
   ]
  },
  {
   "cell_type": "code",
   "execution_count": null,
   "metadata": {},
   "outputs": [],
   "source": [
    "group_df = group_df.reset_index()"
   ]
  },
  {
   "cell_type": "code",
   "execution_count": null,
   "metadata": {},
   "outputs": [],
   "source": [
    "df_data = group_df.merge(df_user, on='user_id', how='left')"
   ]
  },
  {
   "cell_type": "code",
   "execution_count": null,
   "metadata": {},
   "outputs": [],
   "source": [
    "df_data.to_parquet('./data/cache/df_data.parquet',index=False)"
   ]
  },
  {
   "cell_type": "code",
   "execution_count": null,
   "metadata": {},
   "outputs": [],
   "source": [
    "\n",
    "#加载缓存\n",
    "df_data =pd.read_parquet('./data/cache/df_data.parquet')"
   ]
  },
  {
   "cell_type": "code",
   "execution_count": null,
   "metadata": {},
   "outputs": [],
   "source": [
    "df_data"
   ]
  },
  {
   "cell_type": "markdown",
   "metadata": {},
   "source": [
    "# tfidf "
   ]
  },
  {
   "cell_type": "code",
   "execution_count": null,
   "metadata": {},
   "outputs": [],
   "source": [
    "from sklearn.feature_extraction.text import TfidfVectorizer\n",
    "from sklearn.model_selection import StratifiedKFold\n",
    "from sklearn.metrics import accuracy_score\n",
    "import numpy as np\n",
    "from sklearn.linear_model import LogisticRegression\n",
    "from sklearn.linear_model import SGDClassifier\n",
    "from sklearn.linear_model import PassiveAggressiveClassifier\n",
    "from sklearn.linear_model import RidgeClassifier\n",
    "from sklearn.naive_bayes import BernoulliNB\n",
    "from sklearn.naive_bayes import MultinomialNB\n",
    "from sklearn.svm import LinearSVC\n",
    "from tqdm import tqdm\n"
   ]
  },
  {
   "cell_type": "code",
   "execution_count": null,
   "metadata": {},
   "outputs": [],
   "source": [
    "df_test_final = df_data[df_data.age.isna()]\n",
    "df_train_val_final = df_data[~df_data.age.isna()]"
   ]
  },
  {
   "cell_type": "code",
   "execution_count": null,
   "metadata": {},
   "outputs": [],
   "source": [
    "# from sklearn.feature_extraction.text import TfidfVectorizer\n",
    "# tfidf = TfidfVectorizer(min_df=30,max_features=100000)\n",
    "# tfidf.fit(group_df['creative_id'])"
   ]
  },
  {
   "cell_type": "code",
   "execution_count": null,
   "metadata": {},
   "outputs": [],
   "source": [
    "def get_sklearn_classfiy_stacking(tfname,clf, train_feature, test_feature, score, model_name, class_number, n_folds, train_num, test_num):\n",
    "    print('\\n****开始跑', model_name, '****')\n",
    "    stack_train = np.zeros((train_num, class_number))\n",
    "    stack_test = np.zeros((test_num, class_number))\n",
    "    score_mean = []\n",
    "    skf = StratifiedKFold(n_splits=n_folds, random_state=1017)\n",
    "    for i, (tr, va) in enumerate(skf.split(train_feature, score)):\n",
    "        clf.fit(train_feature[tr], score[tr])\n",
    "        score_va = clf._predict_proba_lr(train_feature[va])\n",
    "        score_te = clf._predict_proba_lr(test_feature)\n",
    "        score_single = accuracy_score(score[va], np.argmax(score_va, axis=1))\n",
    "        score_mean.append(np.around(score_single, 5))\n",
    "        print(f'{i+1}/{n_folds}', score_single)\n",
    "        stack_train[va] += score_va\n",
    "        stack_test += score_te\n",
    "    stack_test /= n_folds\n",
    "    stack = np.vstack([stack_train, stack_test])\n",
    "    df_stack = pd.DataFrame()\n",
    "    for i in range(stack.shape[1]):\n",
    "        df_stack[f'{tfname}_{model_name}_{str(i)}'] = stack[:, i]\n",
    "    print(model_name, '处理完毕')\n",
    "    return df_stack, score_mean\n",
    "\n",
    "model_list = [\n",
    "    ['LogisticRegression', LogisticRegression(random_state=1017, C=3)],\n",
    "    ['SGDClassifier', SGDClassifier(random_state=1017, loss='log')],\n",
    "    ['PassiveAggressiveClassifier', PassiveAggressiveClassifier(random_state=1017, C=2)],\n",
    "    ['RidgeClassfiy', RidgeClassifier(random_state=1017)],\n",
    "    ['LinearSVC', LinearSVC(random_state=1017)]\n",
    "]"
   ]
  },
  {
   "cell_type": "code",
   "execution_count": null,
   "metadata": {},
   "outputs": [],
   "source": [
    "for col in aggcol:\n",
    "    print(f'开始计算tf-idf特征:{col}')\n",
    "    tf = TfidfVectorizer(min_df=30,max_features=100000,ngram_range=(1, 1))\n",
    "    discuss_tf = tf.fit_transform(df_data[col]).tocsr()\n",
    "    print('计算结束')\n",
    "\n",
    "    ############################ 切分数据集 ##########################\n",
    "    print('开始进行一些前期处理')\n",
    "    train_feature = discuss_tf[:len(df_train_val_final)]\n",
    "    score = df_train_val_final['age'] - 1\n",
    "    test_feature = discuss_tf[len(df_train_val_final):]\n",
    "    print('处理完毕')\n",
    "\n",
    "    ######################### 模型函数(返回sklean_stacking结果) ########################\n",
    "\n",
    "\n",
    "    feature = pd.DataFrame()\n",
    "    for i in model_list:\n",
    "        stack_result, score_mean = get_sklearn_classfiy_stacking(col,i[1], train_feature, test_feature, score, i[0], 10, 5, len(df_train_val_final), len(df_test_final))\n",
    "        feature = pd.concat([feature, stack_result], axis=1, sort=False)\n",
    "        print('五折结果', score_mean)\n",
    "        print('平均结果', np.mean(score_mean))\n",
    "    feature.to_csv(f'./model/cache/{col}_tfidf.csv', index=False)"
   ]
  },
  {
   "cell_type": "markdown",
   "metadata": {},
   "source": [
    "# 生成用户的embeding"
   ]
  },
  {
   "cell_type": "code",
   "execution_count": null,
   "metadata": {},
   "outputs": [],
   "source": [
    "aggcol_without_time = [t for t in aggcol if t not in ['time','click_times'] ]"
   ]
  },
  {
   "cell_type": "code",
   "execution_count": null,
   "metadata": {},
   "outputs": [],
   "source": [
    "aggcol_without_time"
   ]
  },
  {
   "cell_type": "code",
   "execution_count": null,
   "metadata": {},
   "outputs": [],
   "source": [
    "from gensim.models import KeyedVectors\n",
    "wv_group ={}\n",
    "for col in aggcol_without_time:\n",
    "    wv_group[col] = KeyedVectors.load(f\"./model/word2vec_{col}_128.model\", mmap='r')"
   ]
  },
  {
   "cell_type": "code",
   "execution_count": null,
   "metadata": {},
   "outputs": [],
   "source": [
    "for col_name in aggcol_without_time:\n",
    "    def agg_emebeding(x):\n",
    "        items =  x.split(' ')\n",
    "        user_embed =  np.zeros((128))\n",
    "        wlen = 0\n",
    "        for k in items:\n",
    "            if k == 'un':\n",
    "                continue\n",
    "            user_embed+=wv_group[col_name][k]\n",
    "            wlen +=1\n",
    "        \n",
    "        user_embed = user_embed/wlen\n",
    "        return user_embed\n",
    "    df_data[col_name+'_user_embed'] = df_data[col_name].apply(agg_emebeding)"
   ]
  },
  {
   "cell_type": "code",
   "execution_count": null,
   "metadata": {},
   "outputs": [],
   "source": [
    "df_data[[col_name+'_user_embed' for col_name in aggcol_without_time]].to_parquet('./model/cache/user_embed.parquet',index=False)"
   ]
  },
  {
   "cell_type": "code",
   "execution_count": null,
   "metadata": {},
   "outputs": [],
   "source": [
    "df_data[['creative_id_user_embed']].to_parquet('./model/cache/user_embed_creative_id.parquet',index=False)"
   ]
  },
  {
   "cell_type": "code",
   "execution_count": null,
   "metadata": {},
   "outputs": [],
   "source": []
  }
 ],
 "metadata": {
  "kernelspec": {
   "display_name": "Python 3",
   "language": "python",
   "name": "python3"
  },
  "language_info": {
   "codemirror_mode": {
    "name": "ipython",
    "version": 3
   },
   "file_extension": ".py",
   "mimetype": "text/x-python",
   "name": "python",
   "nbconvert_exporter": "python",
   "pygments_lexer": "ipython3",
   "version": "3.6.10"
  }
 },
 "nbformat": 4,
 "nbformat_minor": 4
}
