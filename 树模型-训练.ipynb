{
 "cells": [
  {
   "cell_type": "code",
   "execution_count": 1,
   "metadata": {},
   "outputs": [],
   "source": [
    "import pandas as pd\n",
    "import numpy as np\n",
    "import gc\n",
    "import catboost as cat\n",
    "from catboost import CatBoostClassifier\n",
    "import os \n",
    "from sklearn.model_selection import KFold,StratifiedKFold\n",
    "from sklearn.metrics import accuracy_score\n",
    "from sklearn.preprocessing import LabelEncoder\n"
   ]
  },
  {
   "cell_type": "code",
   "execution_count": 2,
   "metadata": {},
   "outputs": [],
   "source": [
    "train_root_path ='./data/train_preliminary/'\n",
    "train_ad_path = os.path.join(train_root_path,'ad.csv')\n",
    "train_click_path = os.path.join(train_root_path,'click_log.csv')\n",
    "train_user_path = os.path.join(train_root_path,'user.csv')"
   ]
  },
  {
   "cell_type": "code",
   "execution_count": 3,
   "metadata": {},
   "outputs": [],
   "source": [
    "test_root_path = './data/test/'\n",
    "test_ad_path = os.path.join(test_root_path,'ad.csv')\n",
    "test_click_path = os.path.join(test_root_path,'click_log.csv')"
   ]
  },
  {
   "cell_type": "code",
   "execution_count": 4,
   "metadata": {},
   "outputs": [],
   "source": [
    "df_user = pd.read_csv(train_user_path)"
   ]
  },
  {
   "cell_type": "code",
   "execution_count": 6,
   "metadata": {},
   "outputs": [],
   "source": [
    "aggcol = ['creative_id','ad_id','product_id','product_category','advertiser_id','industry','time','click_times']"
   ]
  },
  {
   "cell_type": "code",
   "execution_count": 7,
   "metadata": {},
   "outputs": [],
   "source": [
    "tf_dfs =[]\n",
    "for col in aggcol:\n",
    "    f1 = pd.read_csv(f'./model/cache/{col}_tfidf.csv')\n",
    "    tf_dfs.append(f1)\n",
    "tf_feature = pd.concat(tf_dfs, axis=1, sort=False)"
   ]
  },
  {
   "cell_type": "code",
   "execution_count": 8,
   "metadata": {},
   "outputs": [],
   "source": [
    "user_embed = pd.read_parquet(f'./model/cache/user_embed_creative_id.parquet')"
   ]
  },
  {
   "cell_type": "code",
   "execution_count": 12,
   "metadata": {},
   "outputs": [],
   "source": [
    "tf_feature = pd.concat([tf_feature,user_embed], axis=1, sort=False)"
   ]
  },
  {
   "cell_type": "code",
   "execution_count": 16,
   "metadata": {},
   "outputs": [],
   "source": [
    "tf_feature[['user_emb_'+str(i) for i in range(128)]] = pd.DataFrame(tf_feature.creative_id_user_embed.tolist(), index= tf_feature.index)\n"
   ]
  },
  {
   "cell_type": "code",
   "execution_count": 21,
   "metadata": {},
   "outputs": [],
   "source": [
    "tf_final = tf_feature.drop('creative_id_user_embed',axis=1)"
   ]
  },
  {
   "cell_type": "code",
   "execution_count": 23,
   "metadata": {},
   "outputs": [
    {
     "data": {
      "text/plain": [
       "(1900000, 528)"
      ]
     },
     "execution_count": 23,
     "metadata": {},
     "output_type": "execute_result"
    }
   ],
   "source": [
    "tf_final.shape"
   ]
  },
  {
   "cell_type": "code",
   "execution_count": null,
   "metadata": {},
   "outputs": [],
   "source": [
    "tf_feature.shape"
   ]
  },
  {
   "cell_type": "code",
   "execution_count": 24,
   "metadata": {},
   "outputs": [
    {
     "name": "stderr",
     "output_type": "stream",
     "text": [
      "/Users/martindu/opt/anaconda3/envs/tfenv/lib/python3.6/site-packages/ipykernel_launcher.py:2: SettingWithCopyWarning: \n",
      "A value is trying to be set on a copy of a slice from a DataFrame.\n",
      "Try using .loc[row_indexer,col_indexer] = value instead\n",
      "\n",
      "See the caveats in the documentation: http://pandas.pydata.org/pandas-docs/stable/user_guide/indexing.html#returning-a-view-versus-a-copy\n",
      "  \n",
      "/Users/martindu/opt/anaconda3/envs/tfenv/lib/python3.6/site-packages/ipykernel_launcher.py:3: SettingWithCopyWarning: \n",
      "A value is trying to be set on a copy of a slice from a DataFrame.\n",
      "Try using .loc[row_indexer,col_indexer] = value instead\n",
      "\n",
      "See the caveats in the documentation: http://pandas.pydata.org/pandas-docs/stable/user_guide/indexing.html#returning-a-view-versus-a-copy\n",
      "  This is separate from the ipykernel package so we can avoid doing imports until\n"
     ]
    }
   ],
   "source": [
    "train_feature = tf_final[:len(df_user)]\n",
    "train_feature['age'] = df_user['age'] - 1\n",
    "train_feature['gender'] = df_user['gender'] - 1"
   ]
  },
  {
   "cell_type": "code",
   "execution_count": 25,
   "metadata": {},
   "outputs": [],
   "source": [
    "test_feature = tf_final[len(df_user):]"
   ]
  },
  {
   "cell_type": "code",
   "execution_count": 27,
   "metadata": {},
   "outputs": [],
   "source": [
    "cols = [col for col in train_feature.columns if col not in ['age','gender']]"
   ]
  },
  {
   "cell_type": "code",
   "execution_count": null,
   "metadata": {},
   "outputs": [],
   "source": [
    "cols"
   ]
  },
  {
   "cell_type": "code",
   "execution_count": 40,
   "metadata": {},
   "outputs": [],
   "source": [
    "def evaluate_5_fold(train_df, test_df, cols,label_col,numclass, test=False):\n",
    "    kf = KFold(n_splits=5, shuffle=True, random_state=1017)\n",
    "    y_test = 0\n",
    "    oof_train = np.zeros((train_df.shape[0], numclass))\n",
    "    for i, (train_index, val_index) in enumerate(kf.split(train_df[cols],train_df[label_col])):\n",
    "        X_train, y_train = train_df.loc[train_index, cols], train_df[label_col].values[train_index]\n",
    "        X_val, y_val = train_df.loc[val_index, cols], train_df[label_col].values[val_index]\n",
    "\n",
    "        \n",
    "#         lgb_train = lgb.Dataset(\n",
    "#             X_train, y_train)\n",
    "#         lgb_eval = lgb.Dataset(\n",
    "#             X_val, y_val,\n",
    "#             reference=lgb_train)\n",
    "#         params = {\n",
    "#             'boosting_type': 'gbdt',\n",
    "#             'learning_rate' : 0.04, \n",
    "#             'verbose': 0,\n",
    "#             'num_leaves':256,\n",
    "#             'min_child_weight':30,\n",
    "#             \"num_class\":6,\n",
    "#             'objective':'multiclass', \n",
    "#             'feature_fraction':0.4,\n",
    "#             'bagging_fraction':0.7, # 0.9是目前最优的\n",
    "#             'bagging_freq':5,  # 3是目前最优的\n",
    "#             'seed': 1017,\n",
    "#             'metric':'multi_error',\n",
    "#             'nthread': 50,\n",
    "#         }\n",
    "        \n",
    "        model = CatBoostClassifier( iterations=100,\n",
    "                                   learning_rate=1,\n",
    "                                   random_strength=0.1,\n",
    "                                   depth=8,loss_function='MultiClass',eval_metric='Accuracy')\n",
    "#         model = CatBoostClassifier(iterations=100, depth=5,cat_features=categorical_features_indices,learning_rate=0.5, loss_function='Logloss',\n",
    "#                             logging_level='Verbose')\n",
    "        model.fit(X_train,y_train,eval_set=(X_val, y_val))#plot=True\n",
    "        y_pred = model.predict_proba(X_val)\n",
    "        if test:\n",
    "            y_test += model.predict_proba(test_df[cols])\n",
    "        oof_train[val_index] = y_pred\n",
    "    auc = accuracy_score(train_df[label_col].values, np.argmax(oof_train, axis=1))\n",
    "    y_test /= 5\n",
    "    #feature_list = pd.DataFrame()\n",
    "    #feature_list['names'] = cols\n",
    "    #feature_list['imp'] = model.get_feature_importance()\n",
    "    #feature_list = feature_list.sort_values(by='imp', ascending=False)\n",
    "    #print(feature_list)\n",
    "    print('5 Fold auc:', auc)\n",
    "    gc.collect()\n",
    "    return auc, oof_train, y_test#, feature_list"
   ]
  },
  {
   "cell_type": "code",
   "execution_count": null,
   "metadata": {},
   "outputs": [],
   "source": [
    "auc, oof_train, y_test = evaluate_5_fold(train_feature, test_feature, cols,'age',10, True)"
   ]
  },
  {
   "cell_type": "code",
   "execution_count": 31,
   "metadata": {},
   "outputs": [],
   "source": [
    "np.save('./model/cache/age_train.predict.npy',oof_train) \n",
    "np.save('./model/cache/age_test.predict.npy',y_test) "
   ]
  },
  {
   "cell_type": "code",
   "execution_count": null,
   "metadata": {},
   "outputs": [],
   "source": [
    "auc_gender, oof_train_gender, y_test_gender = evaluate_5_fold(train_feature, test_feature, cols,'gender', 2 , True)"
   ]
  },
  {
   "cell_type": "code",
   "execution_count": 42,
   "metadata": {},
   "outputs": [],
   "source": [
    "np.save('./model/cache/gender_train.predict.npy',oof_train_gender) \n",
    "np.save('./model/cache/gender_test.predict.npy',y_test_gender) "
   ]
  },
  {
   "cell_type": "code",
   "execution_count": 43,
   "metadata": {},
   "outputs": [
    {
     "data": {
      "text/plain": [
       "array([[0.99305396, 0.00694604],\n",
       "       [0.00355018, 0.99644982],\n",
       "       [0.34195761, 0.65804239],\n",
       "       ...,\n",
       "       [0.98959732, 0.01040268],\n",
       "       [0.98725318, 0.01274682],\n",
       "       [0.99624617, 0.00375383]])"
      ]
     },
     "execution_count": 43,
     "metadata": {},
     "output_type": "execute_result"
    }
   ],
   "source": [
    "y_test_gender"
   ]
  },
  {
   "cell_type": "code",
   "execution_count": 44,
   "metadata": {},
   "outputs": [],
   "source": [
    "age_arg = np.argmax(y_test,axis=1)+1\n",
    "gender_arg = np.argmax(y_test_gender,axis=1)+1"
   ]
  },
  {
   "cell_type": "code",
   "execution_count": 49,
   "metadata": {},
   "outputs": [],
   "source": [
    "df_data =pd.read_parquet('./data/cache/df_data.parquet')"
   ]
  },
  {
   "cell_type": "code",
   "execution_count": 51,
   "metadata": {},
   "outputs": [],
   "source": [
    "df_test_final = df_data[df_data.age.isna()]"
   ]
  },
  {
   "cell_type": "code",
   "execution_count": 52,
   "metadata": {},
   "outputs": [],
   "source": [
    "final = pd.DataFrame({'user_id':df_test_final['user_id'],'predicted_age':age_arg,'predicted_gender':gender_arg})\n",
    "final.to_csv('./result/tree_0606.csv',index=False)"
   ]
  },
  {
   "cell_type": "code",
   "execution_count": 53,
   "metadata": {},
   "outputs": [
    {
     "data": {
      "text/plain": [
       "4"
      ]
     },
     "execution_count": 53,
     "metadata": {},
     "output_type": "execute_result"
    }
   ],
   "source": [
    "gc.collect()"
   ]
  },
  {
   "cell_type": "code",
   "execution_count": 55,
   "metadata": {},
   "outputs": [],
   "source": [
    "tfidf = tf_feature.drop(['user_emb_'+str(i) for i in range(128)],axis=1)"
   ]
  },
  {
   "cell_type": "code",
   "execution_count": 57,
   "metadata": {},
   "outputs": [],
   "source": [
    "tfidf = tfidf.drop('creative_id_user_embed',axis=1)"
   ]
  },
  {
   "cell_type": "code",
   "execution_count": 59,
   "metadata": {},
   "outputs": [],
   "source": [
    "tfidf.to_parquet('./data/cache/df_tfidf_6model_result.parquet',index=False)"
   ]
  },
  {
   "cell_type": "code",
   "execution_count": null,
   "metadata": {},
   "outputs": [],
   "source": []
  }
 ],
 "metadata": {
  "kernelspec": {
   "display_name": "Python 3",
   "language": "python",
   "name": "python3"
  },
  "language_info": {
   "codemirror_mode": {
    "name": "ipython",
    "version": 3
   },
   "file_extension": ".py",
   "mimetype": "text/x-python",
   "name": "python",
   "nbconvert_exporter": "python",
   "pygments_lexer": "ipython3",
   "version": "3.6.10"
  }
 },
 "nbformat": 4,
 "nbformat_minor": 4
}
